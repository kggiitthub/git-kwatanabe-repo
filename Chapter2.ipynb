{
 "cells": [
  {
   "cell_type": "code",
   "execution_count": 1,
   "id": "7b2fd71f-f42d-45ce-96d4-c1a77c67dca2",
   "metadata": {},
   "outputs": [],
   "source": [
    "import torch\n",
    "import torch.nn as nn"
   ]
  },
  {
   "cell_type": "code",
   "execution_count": 2,
   "id": "0f96b252-aa36-458b-9cfd-3c2ee8c9bada",
   "metadata": {},
   "outputs": [
    {
     "name": "stdout",
     "output_type": "stream",
     "text": [
      "=======2-1 準備=======\n",
      "torch.Size([4, 2])\n"
     ]
    }
   ],
   "source": [
    "# -*- coding: utf-8 -*-\n",
    "\n",
    "# ----------------------------\n",
    "# 必要なライブラリをインポート\n",
    "# ----------------------------\n",
    "import torch\n",
    "import torch.nn as nn\n",
    "\n",
    "\n",
    "# ----------------------------\n",
    "# 2-1 準備\n",
    "# ----------------------------\n",
    "print(\"=======2-1 準備=======\")\n",
    "\n",
    "class SimpleMlp(nn.Module):\n",
    "    def __init__(self, vec_length:int=16, hidden_unit_1:int=8, hidden_unit_2:int=2): \n",
    "        \"\"\"\n",
    "        引数:\n",
    "            vec_length: 入力ベクトルの長さ \n",
    "            hidden_unit_1: 1つ目の線形層のニューロン数 \n",
    "            hidden_unit_2: 2つ目の線形層のニューロン数\n",
    "        \"\"\"\n",
    "        # 継承しているnn.Moduleの__init__()メソッドの呼び出し \n",
    "        super(SimpleMlp, self).__init__()\n",
    "        # 1つ目の線形層\n",
    "        self.layer1 = nn.Linear(vec_length, hidden_unit_1)\n",
    "        # 活性化関数のReLU\n",
    "        self.relu = nn.ReLU()\n",
    "        # 2つ目の線形層\n",
    "        self.layer2 = nn.Linear(hidden_unit_1, hidden_unit_2)\n",
    "\n",
    "\n",
    "    def forward(self, x: torch.Tensor) -> torch.Tensor:\n",
    "        \"\"\"順伝搬は、線形層→ReLU→線形層の順番 \n",
    "        引数:\n",
    "            x: 入力。(B, D_in)\n",
    "                B: バッチサイズ、 D_in: ベクトルの長さ\n",
    "        返り値:\n",
    "            out: 出力。(B, D_out)\n",
    "                B: バッチサイズ、 D_out: ベクトルの長さ \n",
    "        \"\"\"\n",
    "        # 1つ目の線形層\n",
    "        out = self.layer1(x)\n",
    "        # ReLU\n",
    "        out = self.relu(out)\n",
    "        # 2つ目の線形層\n",
    "        out = self.layer2(out) \n",
    "        return out\n",
    "\n",
    "vec_length = 16 # 入力ベクトルの長さ \n",
    "hidden_unit_1 = 8 # 1つ目の線形層のニューロン数 \n",
    "hidden_unit_2 = 2 # 2つ目の線形層のニューロン数\n",
    "\n",
    "batch_size = 4 # バッチサイズ。入力ベクトルの数 \n",
    "\n",
    "# 入力ベクトル。xの形状: (4, 16)\n",
    "x = torch.randn(batch_size, vec_length)\n",
    "# MLPを定義\n",
    "net = SimpleMlp(vec_length, hidden_unit_1, hidden_unit_2) \n",
    "# MLPで順伝搬\n",
    "out = net(x)\n",
    "# MLPの出力outの形状が(4, 2)であることを確認 \n",
    "print(out.shape)"
   ]
  },
  {
   "cell_type": "code",
   "execution_count": null,
   "id": "512d0c56-f98b-4459-b98c-89893e10de3c",
   "metadata": {},
   "outputs": [],
   "source": []
  }
 ],
 "metadata": {
  "kernelspec": {
   "display_name": "Python 3 (ipykernel)",
   "language": "python",
   "name": "python3"
  },
  "language_info": {
   "codemirror_mode": {
    "name": "ipython",
    "version": 3
   },
   "file_extension": ".py",
   "mimetype": "text/x-python",
   "name": "python",
   "nbconvert_exporter": "python",
   "pygments_lexer": "ipython3",
   "version": "3.11.0rc1"
  }
 },
 "nbformat": 4,
 "nbformat_minor": 5
}
